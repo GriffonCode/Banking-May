{
 "cells": [
  {
   "cell_type": "code",
   "execution_count": null,
   "metadata": {},
   "outputs": [],
   "source": [
    "import matplotlib\n",
    "import numpy\n",
    "import pandas\n",
    "import plotly\n",
    "import scipy\n",
    "import seaborn\n",
    "import sklearn  # This is scikit-learn\n",
    "import IPython\n",
    "import pandas as pd\n",
    "import numpy as np\n",
    "import pickle\n",
    "import logging\n",
    "\n",
    "try:\n",
    "    import pickle5 as pickle  # If using Python < 3.8 and have pickle5 installed\n",
    "except ImportError:\n",
    "    import pickle  # Standard library pickle, no version, but using pickle5 for environments that support it\n",
    "\n",
    "print(\"matplotlib:\", matplotlib.__version__)\n",
    "print(\"numpy:\", numpy.__version__)\n",
    "print(\"pandas:\", pandas.__version__)\n",
    "print(\"plotly:\", plotly.__version__)\n",
    "print(\"scipy:\", scipy.__version__)\n",
    "print(\"seaborn:\", seaborn.__version__)\n",
    "print(\"scikit-learn:\", sklearn.__version__)\n",
    "print(\"IPython:\", IPython.__version__)\n",
    "try:\n",
    "    print(\"pickle-mixin:\", pickle.__version__)  # pickle5 for environments where it's installed\n",
    "except AttributeError:\n",
    "    print(\"pickle-mixin: No separate version, using standard library pickle\")\n"
   ]
  }
 ],
 "metadata": {
  "kernelspec": {
   "display_name": "base",
   "language": "python",
   "name": "python3"
  },
  "language_info": {
   "name": "python",
   "version": "3.9.7"
  }
 },
 "nbformat": 4,
 "nbformat_minor": 2
}
