{
 "cells": [
  {
   "cell_type": "markdown",
   "metadata": {},
   "source": [
    "# 1. Data Preparation\n",
    "\n",
    "# 1.1 Generate Synthetic Data\n",
    "\n",
    "To simulate a realistic scenario, we will create a synthetic dataset of loan applications. While real-world data would be ideal, a synthetic dataset can provide a valuable proxy for demonstration and learning purposes. An alternative would be sanitized credit analysis datasets from sites like Kaggle. These offer real world data, but mostly sanitized from context, and with an abundance of community solutions that are not ideal to have for this demonstration exercise. \n"
   ]
  },
  {
   "cell_type": "markdown",
   "metadata": {},
   "source": [
    "The dataset includes various features typically used in such models, including Income, Loan_Amount, Credit_Score, Employment_Status, Debt_to_Income, Loan_Term, Age, Home_Ownership, and Default.\n",
    "\n",
    "We begin the synthetic data creation by asking OpenAI's GPT-4 to create explicit mean/mode and skewness assumptions for each feature, based on reputable organizations such as Statistics Finland and the Bank of Finland. There remains a risk of hallucination or inaccuracies inherent to AI-generated content. For our demonstration exercise, we will accept a quick inspection, and leave more detailed expert verifications as a further improvement point.\n",
    "\n",
    "For real-life datasets, conducting thorough due diligence, including consulting multiple data sources and verifying the accuracy of the assumptions, is essential. This synthetic dataset serves as an illustrative example and should not be used as a substitute for actual financial data in professional applications.\n",
    "\n",
    "The table below summarizes the assumptions and sources used for generating each feature in the dataset\n",
    ":"
   ]
  },
  {
   "cell_type": "code",
   "execution_count": null,
   "metadata": {},
   "outputs": [],
   "source": [
    "import pandas as pd\n",
    "import numpy as np\n",
    "import matplotlib.pyplot as plt\n",
    "import seaborn as sns\n",
    "import plotly.express as px\n",
    "from scipy import stats\n",
    "from scipy.stats import lognorm, norm, beta, truncnorm\n",
    "from scipy.stats.mstats import winsorize\n",
    "from sklearn.preprocessing import MinMaxScaler\n",
    "from sklearn.preprocessing import LabelEncoder, StandardScaler\n",
    "from sklearn.decomposition import PCA\n",
    "import pickle\n",
    "\n",
    "\n",
    "# Creating the metadata DataFrame\n",
    "metadata = {\n",
    "    'Feature': [\n",
    "        'Income', \n",
    "        'Loan_Amount', \n",
    "        'Credit_Score', \n",
    "        'Employment_Status', \n",
    "        'Debt_to_Income', \n",
    "        'Loan_Term', \n",
    "        'Age', \n",
    "        'Home_Ownership', \n",
    "        'Default'\n",
    "    ],\n",
    "    'Skewness Description': [\n",
    "        'Positively skewed. Higher concentration of individuals with lower incomes, with fewer high-income earners.',\n",
    "        'Positively skewed. Loan amounts are concentrated towards lower to moderate values, with fewer large loan amounts.',\n",
    "        'Negatively skewed. Most people have good to excellent credit scores, with fewer individuals having very low credit scores.',\n",
    "        'Binary distribution. Higher proportion of the population being employed, heavily weighted towards employment.',\n",
    "        'Positively skewed. More individuals with lower ratios, but significant instances of high debt relative to income.',\n",
    "        'Discrete uniform. Distributed across specific intervals with peaks at common loan terms like 20 and 30 years.',\n",
    "        'Approximately normal. Centered around peak working ages (30-45 years), with fewer young and old applicants.',\n",
    "        'Binary distribution. Higher proportion of the population owning homes, heavily weighted towards ownership.',\n",
    "        'Positively skewed. Default rates are typically low, with a small percentage representing defaults.'\n",
    "    ],\n",
    "    'Mean/Mode Assumptions and Distribution Details': [\n",
    "        'Mean: €3994, Distribution: Log-normal with σ = 0.5',\n",
    "        'Mean: €175,000, Distribution: Log-normal with σ = 0.5',\n",
    "        'Mean: 700, Mode: 750, Distribution: Normal (reversed) with μ = 100 and σ = 50',\n",
    "        'Mode: Employed, Distribution: Binary with p = 0.9',\n",
    "        'Mean: 0.6, Distribution: Beta (α = 2, β = 5) scaled to [0, 1.2]',\n",
    "        'Mode: 20 years, Distribution: Discrete with p = [0.1, 0.2, 0.3, 0.1, 0.3]',\n",
    "        'Mean: 35, Distribution: Normal with μ = 35 and σ = 10, clipped to [18, 75]',\n",
    "        'Mode: Own, Distribution: Binary with p = 0.7',\n",
    "        'Mean: 0.15, Distribution: Top 15% of risk scores' # Seems high for Finland, but we keep high since we lack other features. \n",
    "    ]\n",
    "}\n",
    "\n",
    "# Creating Metadata DataFrame\n",
    "metadata_df = pd.DataFrame(metadata)\n",
    "\n",
    "# Displaying the Metadata DataFrame\n",
    "metadata_df\n"
   ]
  }
 ],
 "metadata": {
  "language_info": {
   "name": "python"
  }
 },
 "nbformat": 4,
 "nbformat_minor": 2
}
